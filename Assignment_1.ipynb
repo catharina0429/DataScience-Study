{
  "nbformat": 4,
  "nbformat_minor": 5,
  "metadata": {
    "kernelspec": {
      "display_name": "Python 3 (ipykernel)",
      "language": "python",
      "name": "python3"
    },
    "language_info": {
      "codemirror_mode": {
        "name": "ipython",
        "version": 3
      },
      "file_extension": ".py",
      "mimetype": "text/x-python",
      "name": "python",
      "nbconvert_exporter": "python",
      "pygments_lexer": "ipython3",
      "version": "3.9.6"
    },
    "colab": {
      "name": "Assignment_1_Jisoo.ipynb",
      "provenance": [],
      "include_colab_link": true
    }
  },
  "cells": [
    {
      "cell_type": "markdown",
      "metadata": {
        "id": "view-in-github",
        "colab_type": "text"
      },
      "source": [
        "<a href=\"https://colab.research.google.com/github/catharina0429/DS/blob/main/Assignment_1.ipynb\" target=\"_parent\"><img src=\"https://colab.research.google.com/assets/colab-badge.svg\" alt=\"Open In Colab\"/></a>"
      ]
    },
    {
      "cell_type": "markdown",
      "metadata": {
        "id": "505415ba-0d44-487e-8761-e2629c4ac7d6"
      },
      "source": [
        "# INF221 Assignmnet 1\n",
        "## Due Date: 2021-09-19\n",
        "## Group3: Aria, Jorge, Jisoo"
      ],
      "id": "505415ba-0d44-487e-8761-e2629c4ac7d6"
    },
    {
      "cell_type": "markdown",
      "metadata": {
        "id": "8edffaa2-ab50-4364-aea0-8e1c7cf25de3"
      },
      "source": [
        "## Exercise 1 (1 pt)\n",
        "Write a python function that returns the sum of numbers in a list recursively."
      ],
      "id": "8edffaa2-ab50-4364-aea0-8e1c7cf25de3"
    },
    {
      "cell_type": "code",
      "metadata": {
        "id": "18d63b7a-4fde-4b6b-a315-bcddf430483a"
      },
      "source": [
        "def list_Sum(yourlist):\n",
        "    if len(yourlist) == 0 :\n",
        "        print(\"input proper list!\")\n",
        "        return 0\n",
        "        \n",
        "    if len(yourlist) == 1 :\n",
        "        return yourlist[0]\n",
        "    \n",
        "    else:\n",
        "        return yourlist[0] + list_Sum(yourlist[1:])"
      ],
      "id": "18d63b7a-4fde-4b6b-a315-bcddf430483a",
      "execution_count": null,
      "outputs": []
    },
    {
      "cell_type": "code",
      "metadata": {
        "id": "8ad780c9-f6fb-42af-9901-4db9cb1f3793",
        "outputId": "e2bad39b-db8f-43b8-9a58-0e9c967f597d"
      },
      "source": [
        "# print(list_sum(list[0]))\n",
        "print(list_Sum([1,3,5,7]))\n",
        "print(list_Sum([]))\n"
      ],
      "id": "8ad780c9-f6fb-42af-9901-4db9cb1f3793",
      "execution_count": null,
      "outputs": [
        {
          "name": "stdout",
          "output_type": "stream",
          "text": [
            "16\n",
            "input proper list!\n",
            "0\n"
          ]
        }
      ]
    },
    {
      "cell_type": "markdown",
      "metadata": {
        "id": "4db6317b-56c5-4065-9788-352df1d6d0fb"
      },
      "source": [
        "## Exercise 2 (1 pt)\n",
        "Write a Python class circle. The circle class contains a constructor which takes the radius as input. The class circle contains two methods that compute the area and the perimeter of a circle. "
      ],
      "id": "4db6317b-56c5-4065-9788-352df1d6d0fb"
    },
    {
      "cell_type": "code",
      "metadata": {
        "id": "d9f4eccd-c9ac-4063-aa62-9e8fa334f48f"
      },
      "source": [
        "import math\n",
        "\n",
        "class Circle:\n",
        "    \n",
        "    def __init__ (self, radius:float):\n",
        "        # contain constructor: radius\n",
        "        self.radius = radius\n",
        "    \n",
        "    # compute area of a circle = pi * radius * radius\n",
        "    def circle_area(self):\n",
        "        return self.radius * self.radius * math.pi\n",
        "    \n",
        "    # compute perimeter of a circle = 2* pi * radius\n",
        "    def circle_perimeter(self):\n",
        "        return 2 * self.radius * math.pi"
      ],
      "id": "d9f4eccd-c9ac-4063-aa62-9e8fa334f48f",
      "execution_count": null,
      "outputs": []
    },
    {
      "cell_type": "code",
      "metadata": {
        "id": "e7615ba2-d76e-40cd-a890-d5513ab741b6",
        "outputId": "26af3b84-e221-465f-f0b1-5777b066264b"
      },
      "source": [
        "c = Circle(3)\n",
        "print(c.circle_area())\n",
        "print(c.circle_perimeter())"
      ],
      "id": "e7615ba2-d76e-40cd-a890-d5513ab741b6",
      "execution_count": null,
      "outputs": [
        {
          "name": "stdout",
          "output_type": "stream",
          "text": [
            "28.274333882308138\n",
            "18.84955592153876\n"
          ]
        }
      ]
    },
    {
      "cell_type": "code",
      "metadata": {
        "id": "5a4f118d-964c-431d-ad87-b4d6a32416a7"
      },
      "source": [
        "class Circle:\n",
        "    import math\n",
        "  \n",
        "    def __init__ (self, radius:float):\n",
        "        # contain constructor: radius\n",
        "        self.radius = radius\n",
        "    \n",
        "    # compute area of a circle = pi * radius * radius\n",
        "    def circle_area(self):\n",
        "        return self.radius * self.radius * math.pi\n",
        "    \n",
        "    # compute perimeter of a circle = 2* pi * radius\n",
        "    def circle_perimeter(self):\n",
        "        return 2 * self.radius * math.pi"
      ],
      "id": "5a4f118d-964c-431d-ad87-b4d6a32416a7",
      "execution_count": null,
      "outputs": []
    },
    {
      "cell_type": "code",
      "metadata": {
        "id": "ebd5f573-e857-4098-8ff0-a18d22976453",
        "outputId": "7c6f672d-f77d-4f6f-971c-49e0a3be24df"
      },
      "source": [
        "c = Circle(3)\n",
        "print(c.circle_area())\n",
        "print(c.circle_perimeter())"
      ],
      "id": "ebd5f573-e857-4098-8ff0-a18d22976453",
      "execution_count": null,
      "outputs": [
        {
          "name": "stdout",
          "output_type": "stream",
          "text": [
            "28.274333882308138\n",
            "18.84955592153876\n"
          ]
        }
      ]
    },
    {
      "cell_type": "markdown",
      "metadata": {
        "id": "90c42783-f626-45a1-adeb-dc5074ad413d"
      },
      "source": [
        "## Exercise 3 (1 pt)\n",
        "In the following geometric progression,  2, 4, 8, ...., 256, what is the value of r, a, and n?  where a is the starting value,r is the common ratio between adjacent terms, n is the number of terms."
      ],
      "id": "90c42783-f626-45a1-adeb-dc5074ad413d"
    },
    {
      "cell_type": "code",
      "metadata": {
        "id": "a1313aa3-b22c-439a-9169-b0a90bf6d769"
      },
      "source": [
        "# a = starting value\n",
        "# r = ratio\n",
        "# n = number of terms\n",
        "def geometric_progress(a, r, n):\n",
        "    for i in range(n):\n",
        "        print(a, end = ' ')\n",
        "        a = a * r"
      ],
      "id": "a1313aa3-b22c-439a-9169-b0a90bf6d769",
      "execution_count": null,
      "outputs": []
    },
    {
      "cell_type": "code",
      "metadata": {
        "id": "70772a44-3fe8-4013-b2fd-7c98528e6a13",
        "outputId": "1744c2c2-e573-4842-cffa-0bab37dc43d3"
      },
      "source": [
        "geometric_progress(2, 2, 8)"
      ],
      "id": "70772a44-3fe8-4013-b2fd-7c98528e6a13",
      "execution_count": null,
      "outputs": [
        {
          "name": "stdout",
          "output_type": "stream",
          "text": [
            "2 4 8 16 32 64 128 256 "
          ]
        }
      ]
    },
    {
      "cell_type": "code",
      "metadata": {
        "id": "d80e5f56-8eeb-400d-b7d1-0afdcf3cb8c3",
        "outputId": "bb473f27-1836-4650-ec92-744da76e9cc4"
      },
      "source": [
        "geometric_progress(3, 2, 4)"
      ],
      "id": "d80e5f56-8eeb-400d-b7d1-0afdcf3cb8c3",
      "execution_count": null,
      "outputs": [
        {
          "name": "stdout",
          "output_type": "stream",
          "text": [
            "3 6 12 24 "
          ]
        }
      ]
    },
    {
      "cell_type": "markdown",
      "metadata": {
        "id": "716bde5b-6d41-4b36-bd24-811817e27511"
      },
      "source": [
        "## Exercise 4 (1 pt)\n",
        " Find the sum of the following series, 1+2.5+ 4+ 5.5+ 7+ ....+ 61\n",
        "\n",
        "* Arithmetic Sequence: \n",
        "$a_{n} = a_{1} + (n-1)d$\n",
        "* Sum of Arithmetic Sequence:\n",
        "$S_{n} = n (\\frac{a_{1} + a_{n}}{2}) $"
      ],
      "id": "716bde5b-6d41-4b36-bd24-811817e27511"
    },
    {
      "cell_type": "code",
      "metadata": {
        "id": "40662022-484d-43c4-8528-678a04a6cee4"
      },
      "source": [
        "def Arithmetic_Sequence_sum(first, end, diff):\n",
        "    numTerms = 1 + (end - first)/diff\n",
        "    if numTerms > 0 :\n",
        "        return numTerms * (first + end) / 2"
      ],
      "id": "40662022-484d-43c4-8528-678a04a6cee4",
      "execution_count": null,
      "outputs": []
    },
    {
      "cell_type": "code",
      "metadata": {
        "id": "40c60387-9788-4e70-9ca4-334f3531c015",
        "outputId": "9612c6cc-1f35-408e-9bb4-b6e6f4024aee"
      },
      "source": [
        "Arithmetic_Sequence_sum(1, 61, 1.5)"
      ],
      "id": "40c60387-9788-4e70-9ca4-334f3531c015",
      "execution_count": null,
      "outputs": [
        {
          "data": {
            "text/plain": [
              "1271.0"
            ]
          },
          "execution_count": 6,
          "metadata": {},
          "output_type": "execute_result"
        }
      ]
    },
    {
      "cell_type": "code",
      "metadata": {
        "id": "eec8d6ed-69b6-422b-bcf1-ff5f9cf53fb3",
        "outputId": "61848ace-6756-4bb8-a38c-90ca1b15cfe3"
      },
      "source": [
        "Arithmetic_Sequence_sum(1, 4, diff = 1)"
      ],
      "id": "eec8d6ed-69b6-422b-bcf1-ff5f9cf53fb3",
      "execution_count": null,
      "outputs": [
        {
          "data": {
            "text/plain": [
              "10.0"
            ]
          },
          "execution_count": 12,
          "metadata": {},
          "output_type": "execute_result"
        }
      ]
    },
    {
      "cell_type": "code",
      "metadata": {
        "id": "af6c33cf-d542-45af-a8ab-b7f0f88340fd"
      },
      "source": [
        ""
      ],
      "id": "af6c33cf-d542-45af-a8ab-b7f0f88340fd",
      "execution_count": null,
      "outputs": []
    }
  ]
}